{
  "cells": [
    {
      "cell_type": "code",
      "source": [
        "import datetime as dt\n",
        "import pandas as pd\n",
        "import statistics as st\n",
        "\n",
        "import matplotlib.pyplot as plt\n",
        "import seaborn as sns\n",
        "sns.set_style('whitegrid')\n",
        "plt.style.use(\"fivethirtyeight\")\n",
        "%matplotlib inline\n",
        "\n",
        "# For reading stock data from yahoo\n",
        "import yfinance as yf\n",
        "yf.pdr_override()"
      ],
      "outputs": [],
      "execution_count": 1,
      "metadata": {
        "collapsed": true,
        "jupyter": {
          "source_hidden": false,
          "outputs_hidden": false
        },
        "nteract": {
          "transient": {
            "deleting": false
          }
        },
        "execution": {
          "iopub.status.busy": "2021-04-18T03:03:28.334Z",
          "iopub.execute_input": "2021-04-18T03:03:28.338Z",
          "shell.execute_reply": "2021-04-18T03:03:28.932Z",
          "iopub.status.idle": "2021-04-18T03:03:28.938Z"
        }
      }
    },
    {
      "cell_type": "code",
      "source": [
        "start = '2020-01-01'\n",
        "end = '2020-12-31'\n",
        "\n",
        "symbol = 'AMD'"
      ],
      "outputs": [],
      "execution_count": 2,
      "metadata": {
        "collapsed": true,
        "jupyter": {
          "source_hidden": false,
          "outputs_hidden": false
        },
        "nteract": {
          "transient": {
            "deleting": false
          }
        },
        "execution": {
          "iopub.status.busy": "2021-04-18T03:03:28.942Z",
          "iopub.execute_input": "2021-04-18T03:03:28.945Z",
          "iopub.status.idle": "2021-04-18T03:03:28.951Z",
          "shell.execute_reply": "2021-04-18T03:03:28.965Z"
        }
      }
    },
    {
      "cell_type": "code",
      "source": [
        "df = yf.download(symbol, start, end)"
      ],
      "outputs": [
        {
          "output_type": "stream",
          "name": "stdout",
          "text": [
            "[*********************100%***********************]  1 of 1 completed\n"
          ]
        }
      ],
      "execution_count": 3,
      "metadata": {
        "collapsed": true,
        "jupyter": {
          "source_hidden": false,
          "outputs_hidden": false
        },
        "nteract": {
          "transient": {
            "deleting": false
          }
        },
        "execution": {
          "iopub.status.busy": "2021-04-18T03:03:28.955Z",
          "iopub.execute_input": "2021-04-18T03:03:28.958Z",
          "iopub.status.idle": "2021-04-18T03:03:29.997Z",
          "shell.execute_reply": "2021-04-18T03:03:30.117Z"
        }
      }
    },
    {
      "cell_type": "code",
      "source": [
        "df.head()"
      ],
      "outputs": [
        {
          "output_type": "execute_result",
          "execution_count": 4,
          "data": {
            "text/plain": "                 Open       High        Low      Close  Adj Close    Volume\nDate                                                                       \n2020-01-02  46.860001  49.250000  46.630001  49.099998  49.099998  80331100\n2020-01-03  48.029999  49.389999  47.540001  48.599998  48.599998  73127400\n2020-01-06  48.020000  48.860001  47.860001  48.389999  48.389999  47934900\n2020-01-07  49.349998  49.389999  48.040001  48.250000  48.250000  58061400\n2020-01-08  47.849998  48.299999  47.139999  47.830002  47.830002  53767000",
            "text/html": "<div>\n<style scoped>\n    .dataframe tbody tr th:only-of-type {\n        vertical-align: middle;\n    }\n\n    .dataframe tbody tr th {\n        vertical-align: top;\n    }\n\n    .dataframe thead th {\n        text-align: right;\n    }\n</style>\n<table border=\"1\" class=\"dataframe\">\n  <thead>\n    <tr style=\"text-align: right;\">\n      <th></th>\n      <th>Open</th>\n      <th>High</th>\n      <th>Low</th>\n      <th>Close</th>\n      <th>Adj Close</th>\n      <th>Volume</th>\n    </tr>\n    <tr>\n      <th>Date</th>\n      <th></th>\n      <th></th>\n      <th></th>\n      <th></th>\n      <th></th>\n      <th></th>\n    </tr>\n  </thead>\n  <tbody>\n    <tr>\n      <th>2020-01-02</th>\n      <td>46.860001</td>\n      <td>49.250000</td>\n      <td>46.630001</td>\n      <td>49.099998</td>\n      <td>49.099998</td>\n      <td>80331100</td>\n    </tr>\n    <tr>\n      <th>2020-01-03</th>\n      <td>48.029999</td>\n      <td>49.389999</td>\n      <td>47.540001</td>\n      <td>48.599998</td>\n      <td>48.599998</td>\n      <td>73127400</td>\n    </tr>\n    <tr>\n      <th>2020-01-06</th>\n      <td>48.020000</td>\n      <td>48.860001</td>\n      <td>47.860001</td>\n      <td>48.389999</td>\n      <td>48.389999</td>\n      <td>47934900</td>\n    </tr>\n    <tr>\n      <th>2020-01-07</th>\n      <td>49.349998</td>\n      <td>49.389999</td>\n      <td>48.040001</td>\n      <td>48.250000</td>\n      <td>48.250000</td>\n      <td>58061400</td>\n    </tr>\n    <tr>\n      <th>2020-01-08</th>\n      <td>47.849998</td>\n      <td>48.299999</td>\n      <td>47.139999</td>\n      <td>47.830002</td>\n      <td>47.830002</td>\n      <td>53767000</td>\n    </tr>\n  </tbody>\n</table>\n</div>"
          },
          "metadata": {}
        }
      ],
      "execution_count": 4,
      "metadata": {
        "collapsed": true,
        "jupyter": {
          "source_hidden": false,
          "outputs_hidden": false
        },
        "nteract": {
          "transient": {
            "deleting": false
          }
        },
        "execution": {
          "iopub.status.busy": "2021-04-18T03:03:30.002Z",
          "iopub.execute_input": "2021-04-18T03:03:30.006Z",
          "iopub.status.idle": "2021-04-18T03:03:30.015Z",
          "shell.execute_reply": "2021-04-18T03:03:30.120Z"
        }
      }
    },
    {
      "cell_type": "code",
      "source": [
        "df.tail()"
      ],
      "outputs": [
        {
          "output_type": "execute_result",
          "execution_count": 5,
          "data": {
            "text/plain": "                 Open       High        Low      Close  Adj Close    Volume\nDate                                                                       \n2020-12-23  93.080002  93.129997  91.459999  91.550003  91.550003  25993300\n2020-12-24  91.800003  92.510002  91.309998  91.809998  91.809998  16705900\n2020-12-28  92.930000  93.139999  90.820000  91.599998  91.599998  30627300\n2020-12-29  91.660004  92.459999  89.430000  90.620003  90.620003  31748200\n2020-12-30  90.779999  92.849998  90.190002  92.290001  92.290001  25845000",
            "text/html": "<div>\n<style scoped>\n    .dataframe tbody tr th:only-of-type {\n        vertical-align: middle;\n    }\n\n    .dataframe tbody tr th {\n        vertical-align: top;\n    }\n\n    .dataframe thead th {\n        text-align: right;\n    }\n</style>\n<table border=\"1\" class=\"dataframe\">\n  <thead>\n    <tr style=\"text-align: right;\">\n      <th></th>\n      <th>Open</th>\n      <th>High</th>\n      <th>Low</th>\n      <th>Close</th>\n      <th>Adj Close</th>\n      <th>Volume</th>\n    </tr>\n    <tr>\n      <th>Date</th>\n      <th></th>\n      <th></th>\n      <th></th>\n      <th></th>\n      <th></th>\n      <th></th>\n    </tr>\n  </thead>\n  <tbody>\n    <tr>\n      <th>2020-12-23</th>\n      <td>93.080002</td>\n      <td>93.129997</td>\n      <td>91.459999</td>\n      <td>91.550003</td>\n      <td>91.550003</td>\n      <td>25993300</td>\n    </tr>\n    <tr>\n      <th>2020-12-24</th>\n      <td>91.800003</td>\n      <td>92.510002</td>\n      <td>91.309998</td>\n      <td>91.809998</td>\n      <td>91.809998</td>\n      <td>16705900</td>\n    </tr>\n    <tr>\n      <th>2020-12-28</th>\n      <td>92.930000</td>\n      <td>93.139999</td>\n      <td>90.820000</td>\n      <td>91.599998</td>\n      <td>91.599998</td>\n      <td>30627300</td>\n    </tr>\n    <tr>\n      <th>2020-12-29</th>\n      <td>91.660004</td>\n      <td>92.459999</td>\n      <td>89.430000</td>\n      <td>90.620003</td>\n      <td>90.620003</td>\n      <td>31748200</td>\n    </tr>\n    <tr>\n      <th>2020-12-30</th>\n      <td>90.779999</td>\n      <td>92.849998</td>\n      <td>90.190002</td>\n      <td>92.290001</td>\n      <td>92.290001</td>\n      <td>25845000</td>\n    </tr>\n  </tbody>\n</table>\n</div>"
          },
          "metadata": {}
        }
      ],
      "execution_count": 5,
      "metadata": {
        "collapsed": true,
        "jupyter": {
          "source_hidden": false,
          "outputs_hidden": false
        },
        "nteract": {
          "transient": {
            "deleting": false
          }
        },
        "execution": {
          "iopub.status.busy": "2021-04-18T03:03:30.019Z",
          "iopub.execute_input": "2021-04-18T03:03:30.023Z",
          "iopub.status.idle": "2021-04-18T03:03:30.031Z",
          "shell.execute_reply": "2021-04-18T03:03:30.122Z"
        }
      }
    },
    {
      "cell_type": "code",
      "source": [
        "monthly = df.copy()"
      ],
      "outputs": [],
      "execution_count": 6,
      "metadata": {
        "collapsed": true,
        "jupyter": {
          "source_hidden": false,
          "outputs_hidden": false
        },
        "nteract": {
          "transient": {
            "deleting": false
          }
        },
        "execution": {
          "iopub.status.busy": "2021-04-18T03:03:30.036Z",
          "iopub.execute_input": "2021-04-18T03:03:30.039Z",
          "shell.execute_reply": "2021-04-18T03:03:30.125Z",
          "iopub.status.idle": "2021-04-18T03:03:30.045Z"
        }
      }
    },
    {
      "cell_type": "code",
      "source": [
        "monthly.set_index(monthly.index, inplace=True)\n",
        "monthly.index = pd.to_datetime(monthly.index)\n",
        "monthly = monthly.resample('M').mean()"
      ],
      "outputs": [],
      "execution_count": 7,
      "metadata": {
        "collapsed": true,
        "jupyter": {
          "source_hidden": false,
          "outputs_hidden": false
        },
        "nteract": {
          "transient": {
            "deleting": false
          }
        },
        "execution": {
          "iopub.status.busy": "2021-04-18T03:03:30.050Z",
          "iopub.execute_input": "2021-04-18T03:03:30.053Z",
          "iopub.status.idle": "2021-04-18T03:03:30.059Z",
          "shell.execute_reply": "2021-04-18T03:03:30.127Z"
        }
      }
    },
    {
      "cell_type": "code",
      "source": [
        "data = monthly['Adj Close']\n",
        "data"
      ],
      "outputs": [
        {
          "output_type": "execute_result",
          "execution_count": 8,
          "data": {
            "text/plain": "Date\n2020-01-31    49.197142\n2020-02-29    51.376842\n2020-03-31    44.424091\n2020-04-30    52.063810\n2020-05-31    53.503000\n2020-06-30    53.490000\n2020-07-31    60.225000\n2020-08-31    83.419999\n2020-09-30    79.777620\n2020-10-31    82.210454\n2020-11-30    83.196000\n2020-12-31    93.267619\nFreq: M, Name: Adj Close, dtype: float64"
          },
          "metadata": {}
        }
      ],
      "execution_count": 8,
      "metadata": {
        "collapsed": true,
        "jupyter": {
          "source_hidden": false,
          "outputs_hidden": false
        },
        "nteract": {
          "transient": {
            "deleting": false
          }
        },
        "execution": {
          "iopub.status.busy": "2021-04-18T03:03:30.064Z",
          "iopub.execute_input": "2021-04-18T03:03:30.067Z",
          "iopub.status.idle": "2021-04-18T03:03:30.075Z",
          "shell.execute_reply": "2021-04-18T03:03:30.130Z"
        }
      }
    },
    {
      "cell_type": "code",
      "source": [
        "month_names = ['Jan', 'Feb', 'Mar', 'Apr', 'May', 'Jun', 'Jul', 'Jul', 'Aug', 'Sep', 'Oct', 'Sep', 'Nov', 'Dec']\n",
        "\n",
        "months = [1, 2, 3, 4, 5, 6, 7, 8, 9, 10, 11, 12]"
      ],
      "outputs": [],
      "execution_count": 9,
      "metadata": {
        "collapsed": true,
        "jupyter": {
          "source_hidden": false,
          "outputs_hidden": false
        },
        "nteract": {
          "transient": {
            "deleting": false
          }
        },
        "execution": {
          "iopub.status.busy": "2021-04-18T03:03:30.081Z",
          "iopub.execute_input": "2021-04-18T03:03:30.084Z",
          "iopub.status.idle": "2021-04-18T03:03:30.089Z",
          "shell.execute_reply": "2021-04-18T03:03:30.132Z"
        }
      }
    },
    {
      "cell_type": "code",
      "source": [
        "fig, ax = plt.subplots(nrows=1, ncols=1)\n",
        "\n",
        "ax.set_title(\"Measures of Center\")\n",
        "ax.set_xlabel(\"Date\")\n",
        "ax.set_ylabel(\"Price\")\n",
        "\n",
        "ax.scatter([1, 2, 3, 4, 5, 6, 7, 8, 9, 10, 11, 12], data)\n",
        "\n",
        "ax.plot([st.mean(data)], [st.mean(data)], color='r', marker=\"o\", markersize=15)\n",
        "ax.plot([st.median(data)], [st.median(data)], color='g', marker=\"o\", markersize=15)\n",
        "#ax.plot([st.mode(data)], [st.mode(data)], color='k', marker=\"o\", markersize=15)\n",
        "\n",
        "plt.annotate(\"Mean\", (st.mean(data), st.mean(data)+0.3), color='r')\n",
        "plt.annotate(\"Median\", (st.median(data), st.median(data)+0.3), color='g')\n",
        "#plt.annotate(\"Mode\", (st.mode(data), st.mode(data)+0.3), color='k')\n",
        "plt.show()"
      ],
      "outputs": [
        {
          "output_type": "display_data",
          "data": {
            "text/plain": "<Figure size 432x288 with 1 Axes>",
            "image/png": "[encoded data removed]"
          },
          "metadata": {
            "needs_background": "light"
          }
        }
      ],
      "execution_count": 10,
      "metadata": {
        "collapsed": true,
        "jupyter": {
          "source_hidden": false,
          "outputs_hidden": false
        },
        "nteract": {
          "transient": {
            "deleting": false
          }
        },
        "execution": {
          "iopub.status.busy": "2021-04-18T03:03:30.096Z",
          "iopub.execute_input": "2021-04-18T03:03:30.100Z",
          "iopub.status.idle": "2021-04-18T03:03:30.182Z",
          "shell.execute_reply": "2021-04-18T03:03:30.186Z"
        }
      }
    }
  ],
  "metadata": {
    "kernel_info": {
      "name": "python3"
    },
    "language_info": {
      "name": "python",
      "version": "3.6.12",
      "mimetype": "text/x-python",
      "codemirror_mode": {
        "name": "ipython",
        "version": 3
      },
      "pygments_lexer": "ipython3",
      "nbconvert_exporter": "python",
      "file_extension": ".py"
    },
    "kernelspec": {
      "argv": [
        "C:/Users/Tin Hang/Anaconda3\\python.exe",
        "-m",
        "ipykernel_launcher",
        "-f",
        "{connection_file}"
      ],
      "display_name": "Python 3",
      "language": "python",
      "name": "python3"
    },
    "nteract": {
      "version": "0.28.0"
    }
  },
  "nbformat": 4,
  "nbformat_minor": 0
}