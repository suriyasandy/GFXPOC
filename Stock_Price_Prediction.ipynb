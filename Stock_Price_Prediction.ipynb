{
  "cells": [
    {
      "cell_type": "markdown",
      "source": [
        "# Stock Price Predictions\n"
      ],
      "metadata": {
        "nteract": {
          "transient": {
            "deleting": false
          }
        }
      }
    },
    {
      "cell_type": "code",
      "source": [
        "import numpy as np\n",
        "import pandas as pd\n",
        "from sklearn.linear_model import LinearRegression\n",
        "\n",
        "import warnings\n",
        "warnings.filterwarnings(\"ignore\")\n",
        "\n",
        "import yfinance as yf\n",
        "yf.pdr_override()"
      ],
      "outputs": [],
      "execution_count": 1,
      "metadata": {
        "collapsed": true,
        "jupyter": {
          "source_hidden": false,
          "outputs_hidden": false
        },
        "nteract": {
          "transient": {
            "deleting": false
          }
        },
        "execution": {
          "iopub.status.busy": "2021-06-20T23:37:25.614Z",
          "iopub.execute_input": "2021-06-20T23:37:25.617Z",
          "iopub.status.idle": "2021-06-20T23:37:26.287Z",
          "shell.execute_reply": "2021-06-20T23:37:26.303Z"
        }
      }
    },
    {
      "cell_type": "code",
      "source": [
        "symbol = 'AAPL'\n",
        "start = '2020-01-01' \n",
        "end = '2021-01-01'\n",
        "df = yf.download(symbol, start, end)\n",
        "df = df.reset_index()"
      ],
      "outputs": [
        {
          "output_type": "stream",
          "name": "stdout",
          "text": [
            "[*********************100%***********************]  1 of 1 completed\n"
          ]
        }
      ],
      "execution_count": 2,
      "metadata": {
        "collapsed": false,
        "inputHidden": false,
        "outputHidden": false,
        "execution": {
          "iopub.status.busy": "2021-06-20T23:37:26.292Z",
          "iopub.execute_input": "2021-06-20T23:37:26.296Z",
          "iopub.status.idle": "2021-06-20T23:37:26.998Z",
          "shell.execute_reply": "2021-06-20T23:37:26.994Z"
        }
      }
    },
    {
      "cell_type": "code",
      "source": [
        "df.head()"
      ],
      "outputs": [
        {
          "output_type": "execute_result",
          "execution_count": 3,
          "data": {
            "text/plain": "        Date       Open       High        Low      Close  Adj Close     Volume\n0 2020-01-02  74.059998  75.150002  73.797501  75.087502  74.207466  135480400\n1 2020-01-03  74.287498  75.144997  74.125000  74.357498  73.486023  146322800\n2 2020-01-06  73.447502  74.989998  73.187500  74.949997  74.071579  118387200\n3 2020-01-07  74.959999  75.224998  74.370003  74.597504  73.723213  108872000\n4 2020-01-08  74.290001  76.110001  74.290001  75.797501  74.909149  132079200",
            "text/html": "<div>\n<style scoped>\n    .dataframe tbody tr th:only-of-type {\n        vertical-align: middle;\n    }\n\n    .dataframe tbody tr th {\n        vertical-align: top;\n    }\n\n    .dataframe thead th {\n        text-align: right;\n    }\n</style>\n<table border=\"1\" class=\"dataframe\">\n  <thead>\n    <tr style=\"text-align: right;\">\n      <th></th>\n      <th>Date</th>\n      <th>Open</th>\n      <th>High</th>\n      <th>Low</th>\n      <th>Close</th>\n      <th>Adj Close</th>\n      <th>Volume</th>\n    </tr>\n  </thead>\n  <tbody>\n    <tr>\n      <th>0</th>\n      <td>2020-01-02</td>\n      <td>74.059998</td>\n      <td>75.150002</td>\n      <td>73.797501</td>\n      <td>75.087502</td>\n      <td>74.207466</td>\n      <td>135480400</td>\n    </tr>\n    <tr>\n      <th>1</th>\n      <td>2020-01-03</td>\n      <td>74.287498</td>\n      <td>75.144997</td>\n      <td>74.125000</td>\n      <td>74.357498</td>\n      <td>73.486023</td>\n      <td>146322800</td>\n    </tr>\n    <tr>\n      <th>2</th>\n      <td>2020-01-06</td>\n      <td>73.447502</td>\n      <td>74.989998</td>\n      <td>73.187500</td>\n      <td>74.949997</td>\n      <td>74.071579</td>\n      <td>118387200</td>\n    </tr>\n    <tr>\n      <th>3</th>\n      <td>2020-01-07</td>\n      <td>74.959999</td>\n      <td>75.224998</td>\n      <td>74.370003</td>\n      <td>74.597504</td>\n      <td>73.723213</td>\n      <td>108872000</td>\n    </tr>\n    <tr>\n      <th>4</th>\n      <td>2020-01-08</td>\n      <td>74.290001</td>\n      <td>76.110001</td>\n      <td>74.290001</td>\n      <td>75.797501</td>\n      <td>74.909149</td>\n      <td>132079200</td>\n    </tr>\n  </tbody>\n</table>\n</div>"
          },
          "metadata": {}
        }
      ],
      "execution_count": 3,
      "metadata": {
        "collapsed": false,
        "inputHidden": false,
        "outputHidden": false,
        "execution": {
          "iopub.status.busy": "2021-06-20T23:37:27.003Z",
          "iopub.execute_input": "2021-06-20T23:37:27.006Z",
          "iopub.status.idle": "2021-06-20T23:37:27.029Z",
          "shell.execute_reply": "2021-06-20T23:37:27.197Z"
        }
      }
    },
    {
      "cell_type": "code",
      "source": [
        "df.tail()"
      ],
      "outputs": [
        {
          "output_type": "execute_result",
          "execution_count": 4,
          "data": {
            "text/plain": "          Date        Open        High         Low       Close   Adj Close  \\\n248 2020-12-24  131.320007  133.460007  131.100006  131.970001  131.549637   \n249 2020-12-28  133.990005  137.339996  133.509995  136.690002  136.254608   \n250 2020-12-29  138.050003  138.789993  134.339996  134.869995  134.440399   \n251 2020-12-30  135.580002  135.990005  133.399994  133.720001  133.294067   \n252 2020-12-31  134.080002  134.740005  131.720001  132.690002  132.267349   \n\n        Volume  \n248   54930100  \n249  124486200  \n250  121047300  \n251   96452100  \n252   99116600  ",
            "text/html": "<div>\n<style scoped>\n    .dataframe tbody tr th:only-of-type {\n        vertical-align: middle;\n    }\n\n    .dataframe tbody tr th {\n        vertical-align: top;\n    }\n\n    .dataframe thead th {\n        text-align: right;\n    }\n</style>\n<table border=\"1\" class=\"dataframe\">\n  <thead>\n    <tr style=\"text-align: right;\">\n      <th></th>\n      <th>Date</th>\n      <th>Open</th>\n      <th>High</th>\n      <th>Low</th>\n      <th>Close</th>\n      <th>Adj Close</th>\n      <th>Volume</th>\n    </tr>\n  </thead>\n  <tbody>\n    <tr>\n      <th>248</th>\n      <td>2020-12-24</td>\n      <td>131.320007</td>\n      <td>133.460007</td>\n      <td>131.100006</td>\n      <td>131.970001</td>\n      <td>131.549637</td>\n      <td>54930100</td>\n    </tr>\n    <tr>\n      <th>249</th>\n      <td>2020-12-28</td>\n      <td>133.990005</td>\n      <td>137.339996</td>\n      <td>133.509995</td>\n      <td>136.690002</td>\n      <td>136.254608</td>\n      <td>124486200</td>\n    </tr>\n    <tr>\n      <th>250</th>\n      <td>2020-12-29</td>\n      <td>138.050003</td>\n      <td>138.789993</td>\n      <td>134.339996</td>\n      <td>134.869995</td>\n      <td>134.440399</td>\n      <td>121047300</td>\n    </tr>\n    <tr>\n      <th>251</th>\n      <td>2020-12-30</td>\n      <td>135.580002</td>\n      <td>135.990005</td>\n      <td>133.399994</td>\n      <td>133.720001</td>\n      <td>133.294067</td>\n      <td>96452100</td>\n    </tr>\n    <tr>\n      <th>252</th>\n      <td>2020-12-31</td>\n      <td>134.080002</td>\n      <td>134.740005</td>\n      <td>131.720001</td>\n      <td>132.690002</td>\n      <td>132.267349</td>\n      <td>99116600</td>\n    </tr>\n  </tbody>\n</table>\n</div>"
          },
          "metadata": {}
        }
      ],
      "execution_count": 4,
      "metadata": {
        "collapsed": false,
        "inputHidden": false,
        "outputHidden": false,
        "execution": {
          "iopub.status.busy": "2021-06-20T23:37:27.042Z",
          "iopub.execute_input": "2021-06-20T23:37:27.045Z",
          "iopub.status.idle": "2021-06-20T23:37:27.053Z",
          "shell.execute_reply": "2021-06-20T23:37:27.199Z"
        }
      }
    },
    {
      "cell_type": "code",
      "source": [
        "X_train = df[df.columns[1:5]] # data_aal[['open', 'high', 'low', 'close']]\n",
        "Y_train = df['Adj Close']"
      ],
      "outputs": [],
      "execution_count": 5,
      "metadata": {
        "collapsed": false,
        "inputHidden": false,
        "outputHidden": false,
        "execution": {
          "iopub.status.busy": "2021-06-20T23:37:27.058Z",
          "iopub.execute_input": "2021-06-20T23:37:27.061Z",
          "iopub.status.idle": "2021-06-20T23:37:27.067Z",
          "shell.execute_reply": "2021-06-20T23:37:27.200Z"
        }
      }
    },
    {
      "cell_type": "code",
      "source": [
        "X_train = X_train.values[:-1]\n",
        "Y_train = Y_train.values[1:]"
      ],
      "outputs": [],
      "execution_count": 6,
      "metadata": {
        "collapsed": false,
        "inputHidden": false,
        "outputHidden": false,
        "execution": {
          "iopub.status.busy": "2021-06-20T23:37:27.074Z",
          "iopub.execute_input": "2021-06-20T23:37:27.122Z",
          "shell.execute_reply": "2021-06-20T23:37:27.203Z",
          "iopub.status.idle": "2021-06-20T23:37:27.129Z"
        }
      }
    },
    {
      "cell_type": "code",
      "source": [
        "lr = LinearRegression()"
      ],
      "outputs": [],
      "execution_count": 7,
      "metadata": {
        "collapsed": false,
        "inputHidden": false,
        "outputHidden": false,
        "execution": {
          "iopub.status.busy": "2021-06-20T23:37:27.133Z",
          "iopub.execute_input": "2021-06-20T23:37:27.137Z",
          "iopub.status.idle": "2021-06-20T23:37:27.142Z",
          "shell.execute_reply": "2021-06-20T23:37:27.204Z"
        }
      }
    },
    {
      "cell_type": "code",
      "source": [
        "lr.fit(X_train, Y_train)"
      ],
      "outputs": [
        {
          "output_type": "execute_result",
          "execution_count": 8,
          "data": {
            "text/plain": "LinearRegression()"
          },
          "metadata": {}
        }
      ],
      "execution_count": 8,
      "metadata": {
        "collapsed": false,
        "inputHidden": false,
        "outputHidden": false,
        "execution": {
          "iopub.status.busy": "2021-06-20T23:37:27.148Z",
          "iopub.execute_input": "2021-06-20T23:37:27.152Z",
          "iopub.status.idle": "2021-06-20T23:37:27.158Z",
          "shell.execute_reply": "2021-06-20T23:37:27.206Z"
        }
      }
    },
    {
      "cell_type": "code",
      "source": [
        "X_test = df[df.columns[1:5]].values[:-1]\n",
        "Y_test = df['Adj Close'].values[1:]"
      ],
      "outputs": [],
      "execution_count": 9,
      "metadata": {
        "collapsed": false,
        "inputHidden": false,
        "outputHidden": false,
        "execution": {
          "iopub.status.busy": "2021-06-20T23:37:27.163Z",
          "iopub.execute_input": "2021-06-20T23:37:27.166Z",
          "iopub.status.idle": "2021-06-20T23:37:27.170Z",
          "shell.execute_reply": "2021-06-20T23:37:27.208Z"
        }
      }
    },
    {
      "cell_type": "code",
      "source": [
        "lr.score(X_test, Y_test)"
      ],
      "outputs": [
        {
          "output_type": "execute_result",
          "execution_count": 10,
          "data": {
            "text/plain": "0.987547268803486"
          },
          "metadata": {}
        }
      ],
      "execution_count": 10,
      "metadata": {
        "collapsed": false,
        "inputHidden": false,
        "outputHidden": false,
        "execution": {
          "iopub.status.busy": "2021-06-20T23:37:27.175Z",
          "iopub.execute_input": "2021-06-20T23:37:27.178Z",
          "iopub.status.idle": "2021-06-20T23:37:27.185Z",
          "shell.execute_reply": "2021-06-20T23:37:27.210Z"
        }
      }
    },
    {
      "cell_type": "code",
      "source": [
        "opening_price = float(input('Open: '))\n",
        "high = float(input('High: '))\n",
        "low = float(input('Low: '))\n",
        "close = float(input('Close: '))\n",
        "print('My Prediction the opening price will be:', lr.predict([[opening_price, high, low, close]])[0])"
      ],
      "outputs": [
        {
          "output_type": "stream",
          "name": "stdout",
          "text": [
            "My Prediction the opening price will be: 131.1166343705545\n"
          ]
        }
      ],
      "execution_count": 11,
      "metadata": {
        "collapsed": false,
        "inputHidden": false,
        "outputHidden": false,
        "execution": {
          "iopub.status.busy": "2021-06-20T23:37:27.190Z",
          "iopub.execute_input": "2021-06-20T23:37:27.193Z",
          "shell.execute_reply": "2021-06-20T23:38:55.733Z",
          "iopub.status.idle": "2021-06-20T23:38:55.738Z"
        }
      }
    }
  ],
  "metadata": {
    "kernel_info": {
      "name": "python3"
    },
    "kernelspec": {
      "display_name": "Python [default]",
      "language": "python",
      "name": "python3"
    },
    "language_info": {
      "name": "python",
      "version": "3.6.12",
      "mimetype": "text/x-python",
      "codemirror_mode": {
        "name": "ipython",
        "version": 3
      },
      "pygments_lexer": "ipython3",
      "nbconvert_exporter": "python",
      "file_extension": ".py"
    },
    "nteract": {
      "version": "0.28.0"
    }
  },
  "nbformat": 4,
  "nbformat_minor": 4
}